{
  "nbformat": 4,
  "nbformat_minor": 0,
  "metadata": {
    "colab": {
      "private_outputs": true,
      "provenance": [],
      "collapsed_sections": [
        "vncDsAP0Gaoa",
        "beRrZCGUAJYm",
        "DpeJGUA3kjGy",
        "PH-0ReGfmX4f",
        "PBTbrJXOngz2",
        "u3PMJOP6ngxN",
        "dauF4eBmngu3",
        "bKJF3rekwFvQ",
        "fge-S5ZAYoAp",
        "RoGjAbkUYoAp",
        "y-Ehk30pYrdP",
        "qYpmQ266Yuh3",
        "bbFf2-_FphqN",
        "Seke61FWphqN",
        "9FoxeYWB7pUR",
        "_FJGAjjv_cYq",
        "JcMwzZxoAimU",
        "gCX9965dhzqZ"
      ]
    },
    "kernelspec": {
      "name": "python3",
      "display_name": "Python 3"
    },
    "language_info": {
      "name": "python"
    }
  },
  "cells": [
    {
      "cell_type": "markdown",
      "source": [
        "\n",
        "# **Project Name    -  Uber Supply Demand Gap**\n",
        "\n"
      ],
      "metadata": {
        "id": "vncDsAP0Gaoa"
      }
    },
    {
      "cell_type": "markdown",
      "source": [
        "##### **Project Type**    - EDA (Exploratory Data Analysis)\n",
        "##### **Contribution**    - Individual\n",
        "##### **Member**  - Muhammad Musaib"
      ],
      "metadata": {
        "id": "beRrZCGUAJYm"
      }
    },
    {
      "cell_type": "markdown",
      "source": [
        "# **Project Summary**"
      ],
      "metadata": {
        "id": "FJNUwmbgGyua"
      }
    },
    {
      "cell_type": "markdown",
      "source": [
        "This project involves an Exploratory Data Analysis (EDA) of Uber ride request data to identify demand patterns, service gaps, and potential operational bottlenecks. The data contains information such as request timestamps, pickup points (Airport or City), driver assignment status, and trip completion status.\n",
        "\n",
        "The goal of this analysis is to understand customer behavior and operational efficiency across various time slots, identify peak demand periods, and highlight the reasons behind unfulfilled requests. Through data cleaning, visualization, and aggregation, we uncover critical insights such as demand-supply mismatch, time-of-day effects, and patterns in trip requests that can help optimize driver allocation and service performance.\n",
        "\n",
        "By identifying problem areas such as \"No Cars Available\" and \"Driver Cancelled\" cases during high-demand periods, the analysis aims to support Uber’s business decisions with data-driven insights. Charts like bar plots, heatmaps, and time series plots provide clear visual storytelling of operational trends."
      ],
      "metadata": {
        "id": "F6v_1wHtG2nS"
      }
    },
    {
      "cell_type": "markdown",
      "source": [
        "# **GitHub Link**"
      ],
      "metadata": {
        "id": "w6K7xa23Elo4"
      }
    },
    {
      "cell_type": "markdown",
      "source": [
        "https://github.com/MusaibHazari/Uber-Request-Data"
      ],
      "metadata": {
        "id": "h1o69JH3Eqqn"
      }
    },
    {
      "cell_type": "markdown",
      "source": [
        "# **Problem Statement**\n",
        "Analyze Uber ride request data to uncover operational inefficiencies and demand-supply gaps."
      ],
      "metadata": {
        "id": "DpeJGUA3kjGy"
      }
    },
    {
      "cell_type": "markdown",
      "source": [
        "#### **Define Your Business Objective?**"
      ],
      "metadata": {
        "id": "PH-0ReGfmX4f"
      }
    },
    {
      "cell_type": "markdown",
      "source": [
        "To identify patterns in trip requests, detect peak demand slots, and propose improvements in driver availability to reduce cancellations and improve customer satisfaction."
      ],
      "metadata": {
        "id": "PhDvGCAqmjP1"
      }
    },
    {
      "cell_type": "markdown",
      "source": [
        "# ***Let's Begin !***"
      ],
      "metadata": {
        "id": "O_i_v8NEhb9l"
      }
    },
    {
      "cell_type": "markdown",
      "source": [
        "## ***1. Know Your Data***"
      ],
      "metadata": {
        "id": "HhfV-JJviCcP"
      }
    },
    {
      "cell_type": "markdown",
      "source": [
        "### Import Libraries"
      ],
      "metadata": {
        "id": "Y3lxredqlCYt"
      }
    },
    {
      "cell_type": "code",
      "source": [
        "import pandas as pd\n",
        "import matplotlib.pyplot as plt\n",
        "import seaborn as sns\n",
        "\n",
        "# Optional: nicer charts\n",
        "sns.set(style='whitegrid')"
      ],
      "metadata": {
        "id": "M8Vqi-pPk-HR"
      },
      "execution_count": null,
      "outputs": []
    },
    {
      "cell_type": "markdown",
      "source": [
        "### Dataset Loading"
      ],
      "metadata": {
        "id": "3RnN4peoiCZX"
      }
    },
    {
      "cell_type": "code",
      "source": [
        "from google.colab import drive\n",
        "file_id = '1E0kVqjq0dweoumXR6K4QvhOByxLSE_Mq'\n",
        "url = f'https://drive.google.com/uc?id={file_id}'\n",
        "\n",
        "# Read CSV directly from Google Drive\n",
        "df = pd.read_csv(url)"
      ],
      "metadata": {
        "id": "4CkvbW_SlZ_R"
      },
      "execution_count": null,
      "outputs": []
    },
    {
      "cell_type": "markdown",
      "source": [
        "### Dataset First View"
      ],
      "metadata": {
        "id": "x71ZqKXriCWQ"
      }
    },
    {
      "cell_type": "code",
      "source": [
        "# Preview data\n",
        "df.head()"
      ],
      "metadata": {
        "id": "LWNFOSvLl09H"
      },
      "execution_count": null,
      "outputs": []
    },
    {
      "cell_type": "markdown",
      "source": [
        "### Dataset Rows & Columns count"
      ],
      "metadata": {
        "id": "7hBIi_osiCS2"
      }
    },
    {
      "cell_type": "code",
      "source": [
        "# Dataset Rows & Columns count\n",
        "print(\"Rows:\", df.shape[0])\n",
        "print(\"Columns:\", df.shape[1])"
      ],
      "metadata": {
        "id": "Kllu7SJgmLij"
      },
      "execution_count": null,
      "outputs": []
    },
    {
      "cell_type": "markdown",
      "source": [
        "### Dataset Information"
      ],
      "metadata": {
        "id": "JlHwYmJAmNHm"
      }
    },
    {
      "cell_type": "code",
      "source": [
        "# Dataset Info\n",
        "df.info()"
      ],
      "metadata": {
        "id": "e9hRXRi6meOf"
      },
      "execution_count": null,
      "outputs": []
    },
    {
      "cell_type": "markdown",
      "source": [
        "#### Duplicate Values"
      ],
      "metadata": {
        "id": "35m5QtbWiB9F"
      }
    },
    {
      "cell_type": "code",
      "source": [
        "# Dataset Duplicate Value Count\n",
        "duplicate_count = df.duplicated().sum()\n",
        "print(\"Number of duplicate rows:\", duplicate_count)"
      ],
      "metadata": {
        "id": "1sLdpKYkmox0"
      },
      "execution_count": null,
      "outputs": []
    },
    {
      "cell_type": "markdown",
      "source": [
        "#### Missing Values/Null Values"
      ],
      "metadata": {
        "id": "PoPl-ycgm1ru"
      }
    },
    {
      "cell_type": "code",
      "source": [
        "# Missing Values/Null Values Count\n",
        "missing_values = df.isnull().sum()\n",
        "print(\"Missing values in each column:\\n\")\n",
        "print(missing_values)"
      ],
      "metadata": {
        "id": "GgHWkxvamxVg"
      },
      "execution_count": null,
      "outputs": []
    },
    {
      "cell_type": "code",
      "source": [
        "# Visualizing the missing values\n",
        "missing_values = df.isnull().sum()\n",
        "missing_values = missing_values[missing_values > 0]\n",
        "\n",
        "plt.figure(figsize=(10, 6))\n",
        "ax = sns.barplot(x=missing_values.index, y=missing_values.values, color='red')\n",
        "\n",
        "# Add value labels on each bar\n",
        "for i, v in enumerate(missing_values.values):\n",
        "    ax.text(i, v + 50, str(int(v)), ha='center', va='bottom', fontweight='bold')\n",
        "\n",
        "plt.title(\"Missing Values Count by Column\")\n",
        "plt.ylabel(\"Number of Missing Values\")\n",
        "plt.xlabel(\"Columns\")\n",
        "plt.xticks(rotation=45)\n",
        "plt.tight_layout()\n",
        "plt.show()"
      ],
      "metadata": {
        "id": "3q5wnI3om9sJ"
      },
      "execution_count": null,
      "outputs": []
    },
    {
      "cell_type": "markdown",
      "source": [
        "## ***2. Understanding Your Variables***"
      ],
      "metadata": {
        "id": "nA9Y7ga8ng1Z"
      }
    },
    {
      "cell_type": "code",
      "source": [
        "# Dataset Columns\n",
        "print(\"List of columns in the dataset:\")\n",
        "print(df.columns.tolist())"
      ],
      "metadata": {
        "id": "j7xfkqrt5Ag5"
      },
      "execution_count": null,
      "outputs": []
    },
    {
      "cell_type": "code",
      "source": [
        "# Dataset Describe\n",
        "df.describe(include='all')"
      ],
      "metadata": {
        "id": "DnOaZdaE5Q5t"
      },
      "execution_count": null,
      "outputs": []
    },
    {
      "cell_type": "markdown",
      "source": [
        "### Variables Description"
      ],
      "metadata": {
        "id": "PBTbrJXOngz2"
      }
    },
    {
      "cell_type": "markdown",
      "source": [
        "| Variables              | Description                                                                         |\n",
        "| ------------------------- | ----------------------------------------------------------------------------------- |\n",
        "| `Request id`              | Unique ID for each ride request                                                     |\n",
        "| `Pickup point`            | Location from where the trip was requested — either `City` or `Airport`             |\n",
        "| `Driver id`               | ID of the driver who accepted the ride; missing if no driver was assigned           |\n",
        "| `Status`                  | Final status of the request — `Trip Completed`, `Cancelled`, or `No Cars Available` |\n",
        "| `Request timestamp`       | Date and time when the user requested the ride                                      |\n",
        "| `Drop timestamp`          | Date and time when the ride ended (null if ride didn't happen)                      |\n",
        "| `Trip Duration (hh:mm)`   | Trip duration in hours and minutes (only for completed trips)                       |\n",
        "| `Trip Duration (in mins)` | Trip duration in minutes (numeric version of above)                                 |\n",
        "| `Trip Date`               | Date of the request extracted from the timestamp                                    |\n",
        "| `Request Time`            | Time of the request extracted from the timestamp                                    |\n",
        "| `Day Of Week`             | Day of the week (e.g., Monday, Tuesday)                                             |\n",
        "| `Is Weekend`              | Whether the trip was on a weekend — `Yes` or `No`                                   |\n",
        "| `Trip Completed`          | Simplified yes/no status based on the `Status` column                               |\n",
        "| `Driver Assigned`         | Whether a driver was assigned — `Yes` or `No`                                       |\n",
        "| `Trip Request Time Slot`  | Time slot bucket (e.g., Morning, Evening, Late Night)                               |"
      ],
      "metadata": {
        "id": "aJV4KIxSnxay"
      }
    },
    {
      "cell_type": "markdown",
      "source": [
        "### Check Unique Values for each variable."
      ],
      "metadata": {
        "id": "u3PMJOP6ngxN"
      }
    },
    {
      "cell_type": "code",
      "source": [
        "# Check Unique Values for each variable.\n",
        "unique_counts = df.nunique()\n",
        "print(\"Unique values in each column:\\n\")\n",
        "print(unique_counts)"
      ],
      "metadata": {
        "id": "zms12Yq5n-jE"
      },
      "execution_count": null,
      "outputs": []
    },
    {
      "cell_type": "markdown",
      "source": [
        "## 3. ***Data Wrangling***"
      ],
      "metadata": {
        "id": "dauF4eBmngu3"
      }
    },
    {
      "cell_type": "markdown",
      "source": [
        "### Data Wrangling Code"
      ],
      "metadata": {
        "id": "bKJF3rekwFvQ"
      }
    },
    {
      "cell_type": "code",
      "source": [
        "# Since the dataset is already cleaned, we confirm that:\n",
        "# - No duplicate rows exist\n",
        "# - Missing values have been handled\n",
        "# - Date/time columns are properly formatted\n",
        "# - Additional features like 'Day Of Week', 'Trip Request Time Slot' are already available\n",
        "# Therefore, no additional data wrangling is required."
      ],
      "metadata": {
        "id": "wk-9a2fpoLcV"
      },
      "execution_count": null,
      "outputs": []
    },
    {
      "cell_type": "markdown",
      "source": [
        "### What all manipulations have you done and insights you found?"
      ],
      "metadata": {
        "id": "MSa1f5Uengrz"
      }
    },
    {
      "cell_type": "markdown",
      "source": [
        "# **Data Manipulations Performed**\n",
        "1. **Checked for duplicate rows:**\n",
        "The raw dataset was examined for any exact duplicate entries to ensure data integrity. Removing duplicates helps prevent skewed analysis and ensures that each trip request is uniquely accounted for.\n",
        "\n",
        "2. **Standardization of Timestamps:**\n",
        "Timestamps in the raw data appeared in inconsistent formats (e.g., 11/7/2016 11:51 vs. 13-07-2016 08:33:16). These were standardized to a uniform DD-MM-YYYY HH:MM format to enable accurate time-based calculations and comparisons.\n",
        "\n",
        "3. **Derived Columns Added:**\n",
        "Additional columns were created to enrich the dataset and enable deeper analysis. These include fields like trip duration (in minutes and HH:MM format), day of the week, whether the trip occurred on a weekend, time of request, time slots (like Morning or Evening), and flags for trip completion and driver assignment. These derived columns made it easier to identify patterns and extract actionable insights.\n",
        "\n",
        "# **Insights Discovered**\n",
        "**1. Peak Demand Time Slots:**  \n",
        "*   Morning (5 AM – 10 AM): High number of requests from City to Airport.\n",
        "*   Evening (5 PM – 9 PM): High number of requests from Airport to City.\n",
        "\n",
        "**2. Most Common Issues by Time Slot:**\n",
        "*   Morning (City → Airport): Majority of request failures are due to No Cars Available.\n",
        "*   Evening (Airport → City): A significant number of requests are Cancelled by Drivers.\n",
        "\n",
        "**3. Trip Completion Rate:**\n",
        "*   Highest number of Trip Completed entries occur outside peak hours.\n",
        "*   During peak slots, completion rate drops due to driver unavailability or cancellations.\n",
        "\n",
        "**4. Driver Availability:**\n",
        "*   A large portion of requests during peak hours have no driver assigned, indicating a supply shortage.\n",
        "*   Suggests a need for better driver allocation during high-demand periods.\n",
        "\n",
        "**5. Trip Durations:**\n",
        "*   Completed trips typically last between 40 to 70 minutes, showing consistent travel time regardless of direction or time.\n",
        "\n",
        "**6. Directional Demand Imbalance:**\n",
        "*   Mornings: High demand from City to Airport, but not vice versa.\n",
        "*   Evenings: High demand from Airport to City, with fewer reverse trips.\n",
        "\n",
        "**7. No Weekend Data:**\n",
        "*   The dataset includes only Monday to Friday, so weekend behavior couldn't be analyzed."
      ],
      "metadata": {
        "id": "LbyXE7I1olp8"
      }
    },
    {
      "cell_type": "markdown",
      "source": [
        "## ***4. Data Vizualization, Storytelling & Experimenting with charts : Understand the relationships between variables***"
      ],
      "metadata": {
        "id": "GF8Ens_Soomf"
      }
    },
    {
      "cell_type": "markdown",
      "source": [
        "#### Chart - 1 : **Trip Request Status Distribution**"
      ],
      "metadata": {
        "id": "0wOQAZs5pc--"
      }
    },
    {
      "cell_type": "code",
      "source": [
        "# Chart - 1 visualization code\n",
        "plt.figure(figsize=(10, 6))\n",
        "ax = sns.countplot(data=df, x='Status', hue='Status', palette='Set1')\n",
        "\n",
        "# Add number labels on each bar\n",
        "for p in ax.patches:\n",
        "    height = p.get_height()\n",
        "    ax.text(p.get_x() + p.get_width()/2, height + 50, int(height),\n",
        "            ha='center', va='bottom', fontweight='bold')\n",
        "\n",
        "plt.title('Trip Request Status Distribution')\n",
        "plt.xlabel('Trip Status')\n",
        "plt.ylabel('Number of Requests')\n",
        "plt.tight_layout()\n",
        "plt.show()"
      ],
      "metadata": {
        "id": "7v_ESjsspbW7"
      },
      "execution_count": null,
      "outputs": []
    },
    {
      "cell_type": "markdown",
      "source": [
        "##### **1. Why did you pick the specific chart?**"
      ],
      "metadata": {
        "id": "K5QZ13OEpz2H"
      }
    },
    {
      "cell_type": "markdown",
      "source": [
        "I chose this chart to clearly compare the frequency of each trip status category using categorical data."
      ],
      "metadata": {
        "id": "XESiWehPqBRc"
      }
    },
    {
      "cell_type": "markdown",
      "source": [
        "##### **2. What is/are the insight(s) found from the chart?**"
      ],
      "metadata": {
        "id": "lQ7QKXXCp7Bj"
      }
    },
    {
      "cell_type": "markdown",
      "source": [
        "*  A large number of requests are not completed.\n",
        "*  No Cars Available and Cancelled together outnumber completed trips.\n",
        "*  The company is losing a significant portion of customer demand due to operational failures (driver-side or supply-side)."
      ],
      "metadata": {
        "id": "C_j1G7yiqdRP"
      }
    },
    {
      "cell_type": "markdown",
      "source": [
        "##### **3. Will the gained insights help creating a positive business impact?**\n",
        "Are there any insights that lead to negative growth? Justify with specific reason."
      ],
      "metadata": {
        "id": "448CDAPjqfQr"
      }
    },
    {
      "cell_type": "markdown",
      "source": [
        "**Positive Business impact:**\n",
        "* Reveals operational inefficiencies.\n",
        "* Uber can adjust driver availability and policies to improve completions.\n",
        "\n",
        "**Insights:**\n",
        "* If unfulfilled requests continue, Uber could lose customers and revenue."
      ],
      "metadata": {
        "id": "3cspy4FjqxJW"
      }
    },
    {
      "cell_type": "markdown",
      "source": [
        "#### Chart - 2 : **Pickup Point vs Trip Status**"
      ],
      "metadata": {
        "id": "KSlN3yHqYklG"
      }
    },
    {
      "cell_type": "code",
      "source": [
        "plt.figure(figsize=(10, 6))\n",
        "ax = sns.countplot(data=df, x='Pickup point', hue='Status', palette='Set2')\n",
        "\n",
        "# Add number labels on each bar\n",
        "for p in ax.patches:\n",
        "    height = p.get_height()\n",
        "    if height > 0:\n",
        "        ax.annotate(f'{int(height)}',\n",
        "                    (p.get_x() + p.get_width() / 2, height),\n",
        "                    ha='center', va='bottom', fontsize=10)\n",
        "\n",
        "plt.title('Pickup Point vs Trip Status')\n",
        "plt.xlabel('Pickup Point')\n",
        "plt.ylabel('Number of Requests')\n",
        "plt.tight_layout()\n",
        "plt.show()"
      ],
      "metadata": {
        "id": "R4YgtaqtYklH"
      },
      "execution_count": null,
      "outputs": []
    },
    {
      "cell_type": "markdown",
      "source": [
        "##### **1. Why did you pick the specific chart?**"
      ],
      "metadata": {
        "id": "t6dVpIINYklI"
      }
    },
    {
      "cell_type": "markdown",
      "source": [
        "To compare how trip status varies between pickups from the City vs Airport."
      ],
      "metadata": {
        "id": "5aaW0BYyYklI"
      }
    },
    {
      "cell_type": "markdown",
      "source": [
        "##### **2. What is/are the insight(s) found from the chart?**"
      ],
      "metadata": {
        "id": "ijmpgYnKYklI"
      }
    },
    {
      "cell_type": "markdown",
      "source": [
        "**Insights:**\n",
        "* City pickups have higher cancellations.\n",
        "* Airport pickups suffer more from lack of car availability."
      ],
      "metadata": {
        "id": "PSx9atu2YklI"
      }
    },
    {
      "cell_type": "markdown",
      "source": [
        "##### **3. Will the gained insights help creating a positive business impact?**\n",
        "Are there any insights that lead to negative growth? Justify with specific reason."
      ],
      "metadata": {
        "id": "-JiQyfWJYklI"
      }
    },
    {
      "cell_type": "markdown",
      "source": [
        "**Positive Business impact:**\n",
        "* Helps optimize fleet deployment based on pickup location behavior.\n",
        "\n",
        "**Risk of negative growth:**\n",
        "* Ignoring location-based demand may create regional dissatisfaction."
      ],
      "metadata": {
        "id": "BcBbebzrYklV"
      }
    },
    {
      "cell_type": "markdown",
      "source": [
        "#### Chart - 3 : **Trip Request Time Slot vs Status**"
      ],
      "metadata": {
        "id": "EM7whBJCYoAo"
      }
    },
    {
      "cell_type": "code",
      "source": [
        "# Chart - 3 visualization code\n",
        "plt.figure(figsize=(10, 6))\n",
        "ax=sns.countplot(data=df, x='Trip Request Time Slot', hue='Status', palette='Set3',\n",
        "              order=['Late Night', 'Morning', 'Afternoon', 'Evening', 'Night'])\n",
        "# Add number labels on each bar\n",
        "for p in ax.patches:\n",
        "    height = p.get_height()\n",
        "    if height > 0:\n",
        "        ax.annotate(f'{int(height)}',\n",
        "                    (p.get_x() + p.get_width() / 2, height),\n",
        "                    ha='center', va='bottom', fontsize=10)\n",
        "plt.title('Trip Request Time Slot vs Status')\n",
        "plt.xlabel('Time Slot')\n",
        "plt.ylabel('Number of Requests')\n",
        "plt.tight_layout()\n",
        "plt.show()\n"
      ],
      "metadata": {
        "id": "t6GMdE67YoAp"
      },
      "execution_count": null,
      "outputs": []
    },
    {
      "cell_type": "markdown",
      "source": [
        "##### **1. Why did you pick the specific chart?**"
      ],
      "metadata": {
        "id": "fge-S5ZAYoAp"
      }
    },
    {
      "cell_type": "markdown",
      "source": [
        "Time slots help identify when demand is highest and when issues occur most."
      ],
      "metadata": {
        "id": "5dBItgRVYoAp"
      }
    },
    {
      "cell_type": "markdown",
      "source": [
        "##### **2. What is/are the insight(s) found from the chart?**"
      ],
      "metadata": {
        "id": "85gYPyotYoAp"
      }
    },
    {
      "cell_type": "markdown",
      "source": [
        "**Insights:**\n",
        "\n",
        "* Morning has the most cancellations.\n",
        "* Evening shows the highest No Cars Available."
      ],
      "metadata": {
        "id": "4jstXR6OYoAp"
      }
    },
    {
      "cell_type": "markdown",
      "source": [
        "##### **3. Will the gained insights help creating a positive business impact?**\n",
        "Are there any insights that lead to negative growth? Justify with specific reason."
      ],
      "metadata": {
        "id": "RoGjAbkUYoAp"
      }
    },
    {
      "cell_type": "markdown",
      "source": [
        "**Positive Business impact:**\n",
        "* Can guide driver incentive programs by time slot.\n",
        "* Improve service during high-demand slots.\n",
        "\n",
        "**Risk of negative growth:**\n",
        "* Not addressing time-specific problems can lead to consistent service failure."
      ],
      "metadata": {
        "id": "zfJ8IqMcYoAp"
      }
    },
    {
      "cell_type": "markdown",
      "source": [
        "#### Chart - 4 : **Driver Assigned vs Not Assigned**"
      ],
      "metadata": {
        "id": "4Of9eVA-YrdM"
      }
    },
    {
      "cell_type": "code",
      "source": [
        "# Chart - 4 visualization code\n",
        "driver_counts = df['Driver Assigned'].value_counts()\n",
        "plt.figure(figsize=(10, 6))\n",
        "plt.pie(driver_counts, labels=driver_counts.index, autopct='%1.1f%%', colors=['lightcoral', 'skyblue'], startangle=90)\n",
        "plt.title('Driver Assigned vs Not Assigned')\n",
        "plt.show()"
      ],
      "metadata": {
        "id": "irlUoxc8YrdO"
      },
      "execution_count": null,
      "outputs": []
    },
    {
      "cell_type": "markdown",
      "source": [
        "##### **1. Why did you pick the specific chart?**"
      ],
      "metadata": {
        "id": "iky9q4vBYrdO"
      }
    },
    {
      "cell_type": "markdown",
      "source": [
        "This gives a quick snapshot of the percentage of trips where a driver was assigned."
      ],
      "metadata": {
        "id": "aJRCwT6DYrdO"
      }
    },
    {
      "cell_type": "markdown",
      "source": [
        "##### **2. What is/are the insight(s) found from the chart?**"
      ],
      "metadata": {
        "id": "F6T5p64dYrdO"
      }
    },
    {
      "cell_type": "markdown",
      "source": [
        "**Insight:**\n",
        "* A significant portion of requests were not assigned a driver, which highlights a critical operational failure."
      ],
      "metadata": {
        "id": "Xx8WAJvtYrdO"
      }
    },
    {
      "cell_type": "markdown",
      "source": [
        "##### **3. Will the gained insights help creating a positive business impact?**\n",
        "Are there any insights that lead to negative growth? Justify with specific reason."
      ],
      "metadata": {
        "id": "y-Ehk30pYrdP"
      }
    },
    {
      "cell_type": "markdown",
      "source": [
        "**Positive Business Impact:**\n",
        "* Understanding driver assignment rates helps Uber improve driver availability, optimize automated dispatch systems, and reduce response time.\n",
        "\n",
        "**Risk of negative growth:**\n",
        "* If unassigned requests remain high, Uber may lose customers due to poor service reliability, damaging its market trust."
      ],
      "metadata": {
        "id": "jLNxxz7MYrdP"
      }
    },
    {
      "cell_type": "markdown",
      "source": [
        "#### Chart - 5 : **Trip Completion Rate**"
      ],
      "metadata": {
        "id": "bamQiAODYuh1"
      }
    },
    {
      "cell_type": "code",
      "source": [
        "# Chart - 5 visualization code\n",
        "trip_completion = df['Trip Completed'].value_counts()\n",
        "plt.figure(figsize=(10, 6))\n",
        "plt.pie(trip_completion, labels=trip_completion.index, autopct='%1.1f%%',\n",
        "        colors=['limegreen', 'salmon'], startangle=90, wedgeprops=dict(width=0.3))\n",
        "plt.title('Trip Completion Rate')\n",
        "plt.show()\n"
      ],
      "metadata": {
        "id": "TIJwrbroYuh3"
      },
      "execution_count": null,
      "outputs": []
    },
    {
      "cell_type": "markdown",
      "source": [
        "##### **1. Why did you pick the specific chart?**"
      ],
      "metadata": {
        "id": "QHF8YVU7Yuh3"
      }
    },
    {
      "cell_type": "markdown",
      "source": [
        "To measure how many requests are successfully fulfilled — a critical indicator of service performance."
      ],
      "metadata": {
        "id": "dcxuIMRPYuh3"
      }
    },
    {
      "cell_type": "markdown",
      "source": [
        "##### **2. What is/are the insight(s) found from the chart?**"
      ],
      "metadata": {
        "id": "GwzvFGzlYuh3"
      }
    },
    {
      "cell_type": "markdown",
      "source": [
        "**Insight:**\n",
        "* Less than half of the ride requests are successfully completed, indicating a significant service failure rate."
      ],
      "metadata": {
        "id": "uyqkiB8YYuh3"
      }
    },
    {
      "cell_type": "markdown",
      "source": [
        "##### **3. Will the gained insights help creating a positive business impact?**\n",
        "Are there any insights that lead to negative growth? Justify with specific reason."
      ],
      "metadata": {
        "id": "qYpmQ266Yuh3"
      }
    },
    {
      "cell_type": "markdown",
      "source": [
        "**Positive Business Impact:**\n",
        "* Clearly outlines the need to boost fulfillment rates, possibly by reducing cancellations and increasing car availability.\n",
        "\n",
        "**Risk of negative growth:**\n",
        "* A persistently low completion rate can lead to customer churn, affecting market position and revenue growth."
      ],
      "metadata": {
        "id": "_WtzZ_hCYuh4"
      }
    },
    {
      "cell_type": "markdown",
      "source": [
        "#### Chart - 6 : **Trip Requests by Day of the Week**"
      ],
      "metadata": {
        "id": "OH-pJp9IphqM"
      }
    },
    {
      "cell_type": "code",
      "source": [
        "# Chart - 6 visualization code\n",
        "day_order = ['Monday', 'Tuesday', 'Wednesday', 'Thursday', 'Friday', 'Saturday', 'Sunday']\n",
        "day_counts = df['Day Of Week'].value_counts().reindex(day_order)\n",
        "plt.figure(figsize=(10, 6))\n",
        "sns.lineplot(x=day_counts.index, y=day_counts.values, marker='o', color='teal')\n",
        "plt.title('Trip Requests by Day of the Week')\n",
        "plt.xlabel('Day')\n",
        "plt.ylabel('Number of Trip Requests')\n",
        "plt.xticks(rotation=45)\n",
        "plt.grid(True)\n",
        "plt.tight_layout()\n",
        "plt.show()"
      ],
      "metadata": {
        "id": "kuRf4wtuphqN"
      },
      "execution_count": null,
      "outputs": []
    },
    {
      "cell_type": "markdown",
      "source": [
        "##### **1. Why did you pick the specific chart?**"
      ],
      "metadata": {
        "id": "bbFf2-_FphqN"
      }
    },
    {
      "cell_type": "markdown",
      "source": [
        "To understand how trip demand varies throughout the week."
      ],
      "metadata": {
        "id": "loh7H2nzphqN"
      }
    },
    {
      "cell_type": "markdown",
      "source": [
        "##### **2. What is/are the insight(s) found from the chart?**"
      ],
      "metadata": {
        "id": "_ouA3fa0phqN"
      }
    },
    {
      "cell_type": "markdown",
      "source": [
        "**Insights:**\n",
        "* Weekday trip volume appears higher than weekends.\n",
        "* Friday and Monday show notable demand, likely due to airport or work-related travel.\n",
        "* Weekends have fewer requests, suggesting a dip in business-related usage."
      ],
      "metadata": {
        "id": "VECbqPI7phqN"
      }
    },
    {
      "cell_type": "markdown",
      "source": [
        "##### **3. Will the gained insights help creating a positive business impact?**\n",
        "Are there any insights that lead to negative growth? Justify with specific reason."
      ],
      "metadata": {
        "id": "Seke61FWphqN"
      }
    },
    {
      "cell_type": "markdown",
      "source": [
        "**Positive Business Impact:**\n",
        "* Uber can optimize driver shifts to match daily demand trends.\n",
        "* Helps plan targeted promotions or discounts on low-demand days.\n",
        "* Informs surge pricing models for peak weekdays.\n",
        "\n",
        "**Risk of negative growth:**\n",
        "* Without adjusting for weekly patterns, Uber may face driver shortages on high-demand days or underutilization on others.\n",
        "* Can lead to longer wait times, increased cancellations, and customer dissatisfaction."
      ],
      "metadata": {
        "id": "DW4_bGpfphqN"
      }
    },
    {
      "cell_type": "markdown",
      "source": [
        "#### Chart - 7 : **Trip Requests by Time Slot**"
      ],
      "metadata": {
        "id": "NNVDWA-S6eo3"
      }
    },
    {
      "cell_type": "code",
      "source": [
        "# Chart - 7 visualization code\n",
        "plt.figure(figsize=(10, 6))\n",
        "ax = sns.countplot(\n",
        "    data=df,\n",
        "    x='Trip Request Time Slot',\n",
        "    hue='Trip Request Time Slot',\n",
        "    order=df['Trip Request Time Slot'].value_counts().index,\n",
        "    palette='Set2',\n",
        "    legend=False  # Avoids double legend since hue == x\n",
        ")\n",
        "\n",
        "# Add number labels on each bar\n",
        "for p in ax.patches:\n",
        "    height = p.get_height()\n",
        "    if height > 0:\n",
        "        ax.text(p.get_x() + p.get_width()/2, height + 50, int(height),\n",
        "                ha='center', va='bottom', fontweight='bold')\n",
        "\n",
        "plt.title('Requests by Time Slot')\n",
        "plt.xlabel('Time Slot')\n",
        "plt.ylabel('Number of Requests')\n",
        "plt.xticks(rotation=45)\n",
        "plt.tight_layout()\n",
        "plt.show()\n"
      ],
      "metadata": {
        "id": "cYK2tebl6rh1"
      },
      "execution_count": null,
      "outputs": []
    },
    {
      "cell_type": "markdown",
      "source": [
        "##### **1. Why did you pick the specific chart?**"
      ],
      "metadata": {
        "id": "9FoxeYWB7pUR"
      }
    },
    {
      "cell_type": "markdown",
      "source": [
        "It helps in clearly comparing how request volumes vary across different parts of the day."
      ],
      "metadata": {
        "id": "9Z7tl2LK-zat"
      }
    },
    {
      "cell_type": "markdown",
      "source": [
        "##### **2. What is/are the insight(s) found from the chart?**"
      ],
      "metadata": {
        "id": "OxMS3Fei_IDl"
      }
    },
    {
      "cell_type": "markdown",
      "source": [
        "**Insights:**\n",
        "* Morning has the highest number of ride requests.\n",
        "* Evening also sees significant demand, but slightly lower than Morning.\n",
        "* Late Night and Night have fewer requests, indicating low usage during those hours.\n",
        "* Afternoon has moderate activity, likely due to non-work-related travel."
      ],
      "metadata": {
        "id": "ZXDi5Osp_P5y"
      }
    },
    {
      "cell_type": "markdown",
      "source": [
        "##### **3. Will the gained insights help creating a positive business impact?**\n",
        "Are there any insights that lead to negative growth? Justify with specific reason."
      ],
      "metadata": {
        "id": "_FJGAjjv_cYq"
      }
    },
    {
      "cell_type": "markdown",
      "source": [
        "**Positive Business Impact:**\n",
        "* Uber can optimize driver allocation by increasing availability during Morning and Evening time slots.\n",
        "* Incentives and bonuses can be aligned with peak hours to encourage more driver participation.\n",
        "* Helps refine surge pricing models for specific time windows.\n",
        "\n",
        "**Risks of Negative Growth:**\n",
        "* If the high demand during Morning/Evening slots is not met with enough drivers, customer dissatisfaction and cancellations will rise.\n",
        "* Low driver availability during peak hours may lead to revenue loss and customer churn."
      ],
      "metadata": {
        "id": "HOLhCLrU_gry"
      }
    },
    {
      "cell_type": "markdown",
      "source": [
        "## **5. Solution to Business Objective**"
      ],
      "metadata": {
        "id": "JcMwzZxoAimU"
      }
    },
    {
      "cell_type": "markdown",
      "source": [
        "#### What do you suggest the client to achieve Business Objective ?"
      ],
      "metadata": {
        "id": "8G2x9gOozGDZ"
      }
    },
    {
      "cell_type": "markdown",
      "source": [
        "Based on the analysis, the primary business challenge is high trip failure rates due to driver unavailability and cancellations during peak hours and in specific zones. To improve trip completion and overall service quality, I suggest the following actionable solutions:\n",
        "\n",
        "1. Optimize Driver Allocation by Time and Location\n",
        "Use demand patterns (hourly, daily, and zonal trends) to schedule more drivers during peak periods — particularly mornings in the city and evenings at the airport.\n",
        "\n",
        "2. Introduce Incentives During High-Cancellation Periods\n",
        "Provide targeted driver bonuses during times with high cancellation rates (e.g., early morning city pickups) to reduce driver rejection and improve fulfillment.\n",
        "\n",
        "3. Dynamic Demand Forecasting System\n",
        "Implement a real-time demand forecasting model using historical data (like day, hour, and pickup point) to proactively adjust pricing and driver deployment.\n",
        "\n",
        "4. Improve Driver Dispatch Logic\n",
        "Optimize the matching algorithm to reduce delays in driver assignment, especially during high-demand windows. This will directly boost trip completion rates.\n",
        "\n",
        "5. Customer Notification & Scheduling Features\n",
        "Introduce ride scheduling or pre-booking options to spread demand and give the system more lead time to assign drivers efficiently."
      ],
      "metadata": {
        "id": "pASKb0qOza21"
      }
    },
    {
      "cell_type": "markdown",
      "source": [
        "# **Conclusion**"
      ],
      "metadata": {
        "id": "gCX9965dhzqZ"
      }
    },
    {
      "cell_type": "markdown",
      "source": [
        "This exploratory data analysis of Uber ride requests uncovered critical operational challenges, especially during peak hours. A major issue identified was the demand-supply gap—with \"No Cars Available\" dominating morning requests from the city, and driver cancellations peaking in the evening at the airport.\n",
        "\n",
        "Less than half of the ride requests were successfully completed, indicating inefficiencies in driver allocation and dispatch systems. This leads to lost revenue and poor customer experience.\n",
        "\n",
        "* To address these issues, Uber should:\n",
        "* Optimize driver allocation based on time and location trends,\n",
        "* Incentivize drivers during high-cancellation periods,\n",
        "* Implement demand forecasting, and\n",
        "* Improve dispatch algorithms.\n",
        "\n",
        "These data-backed insights can significantly enhance service reliability, trip fulfillment, and overall customer satisfaction."
      ],
      "metadata": {
        "id": "Fjb1IsQkh3yE"
      }
    }
  ]
}